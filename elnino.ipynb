{
 "cells": [
  {
   "cell_type": "code",
   "execution_count": 1,
   "metadata": {},
   "outputs": [],
   "source": [
    "import pandas as pd\n",
    "import networkx as nx\n",
    "import numpy as np\n",
    "import netCDF4 as nc\n",
    "\n",
    "# !pip install xarray\n",
    "import xarray as xr"
   ]
  },
  {
   "cell_type": "markdown",
   "metadata": {},
   "source": [
    "# Introdução\n",
    "\n",
    "[Referência para a implementação do trabalho](https://datascience-enthusiast.com/R/R_netcdf_correlation.html)\n",
    "\n",
    "\n",
    "## Links para os datasets\n",
    "* [Precipition - Mean - Surface - Monthly](https://psl.noaa.gov/data/gridded/data.gpcp.html)\n",
    "* [Air Temperature - Mean - Surface - Monthly](https://psl.noaa.gov/data/gridded/data.ncep.reanalysis.html)\n"
   ]
  },
  {
   "cell_type": "markdown",
   "metadata": {},
   "source": [
    "# Lendo os datasets"
   ]
  },
  {
   "cell_type": "code",
   "execution_count": 51,
   "metadata": {},
   "outputs": [],
   "source": [
    "DATA_DIR = \"./data\"\n",
    "\n",
    "precip = xr.open_dataset(f\"{DATA_DIR}/precip.mon.mean.nc\")\n",
    "air = xr.open_dataset(f\"{DATA_DIR}/air.sig995.mon.mean.nc\")"
   ]
  },
  {
   "cell_type": "code",
   "execution_count": 60,
   "metadata": {},
   "outputs": [
    {
     "name": "stdout",
     "output_type": "stream",
     "text": [
      "<bound method Mapping.values of <xarray.Dataset>\n",
      "Dimensions:  (lat: 72, lon: 144, time: 442)\n",
      "Coordinates:\n",
      "  * lat      (lat) float32 88.75 86.25 83.75 81.25 ... -83.75 -86.25 -88.75\n",
      "  * lon      (lon) float32 1.25 3.75 6.25 8.75 11.25 ... 351.2 353.8 356.2 358.8\n",
      "  * time     (time) datetime64[ns] 1979-01-01 1979-02-01 ... 2015-10-01\n",
      "Data variables:\n",
      "    precip   (time, lat, lon) float32 ...\n",
      "Attributes:\n",
      "    Conventions:      COARDS\n",
      "    title:            GPCP Version 2.2 Combined Precipitation Dataset (Final)\n",
      "    platform:         Observation\n",
      "    source:           GPCP Polar Satellite Precipitation Data Centre - Emissi...\n",
      "    version:          V2.2\n",
      "    comments:         Please redownload if you obtained this file before Aug ...\n",
      "    Acknowledgement:  \\n,Please cite the original source of the data.\\nPlease...\n",
      "    history:          Converted from netCDF3 to chunked, deflated NetCDF4 Aug...\n",
      "    dataset_title:    Global Precipitation Analysis (GPCP)\n",
      "    documentation:    https://www.esrl.noaa.gov/psd/data/gridded/data.gpcp.html\n",
      "    References:       https://www.esrl.noaa.gov/psd/data/gridded/data.gpcp.html>\n",
      "<bound method Mapping.values of <xarray.Dataset>\n",
      "Dimensions:  (lat: 73, lon: 144, time: 894)\n",
      "Coordinates:\n",
      "  * lat      (lat) float32 90.0 87.5 85.0 82.5 80.0 ... -82.5 -85.0 -87.5 -90.0\n",
      "  * lon      (lon) float32 0.0 2.5 5.0 7.5 10.0 ... 350.0 352.5 355.0 357.5\n",
      "  * time     (time) datetime64[ns] 1948-01-01 1948-02-01 ... 2022-06-01\n",
      "Data variables:\n",
      "    air      (time, lat, lon) float32 ...\n",
      "Attributes:\n",
      "    description:    Data from NCEP initialized reanalysis (4x/day).  These ar...\n",
      "    platform:       Model\n",
      "    Conventions:    COARDS\n",
      "    NCO:            20121012\n",
      "    history:        Thu May  4 20:11:16 2000: ncrcat -d time,0,623 /Datasets/...\n",
      "    title:          monthly mean air.sig995 from the NCEP Reanalysis\n",
      "    dataset_title:  NCEP-NCAR Reanalysis 1\n",
      "    References:     http://www.psl.noaa.gov/data/gridded/data.ncep.reanalysis...>\n"
     ]
    }
   ],
   "source": [
    "print(precip.values)\n",
    "print(air.values)"
   ]
  },
  {
   "cell_type": "markdown",
   "metadata": {},
   "source": [
    "# Ajustando as dimensões"
   ]
  },
  {
   "cell_type": "markdown",
   "metadata": {},
   "source": [
    "## Tempo\n",
    "Precisamos que os dois datasets lidem com o mesmo período de tempo. Observando os valores plotados acima, podemos ver que a intercessão dois dois se dá no período 1979-01-01 à 2015-10-01 "
   ]
  },
  {
   "cell_type": "code",
   "execution_count": 61,
   "metadata": {},
   "outputs": [
    {
     "data": {
      "text/plain": [
       "<bound method Mapping.values of <xarray.Dataset>\n",
       "Dimensions:  (lat: 73, lon: 144, time: 442)\n",
       "Coordinates:\n",
       "  * lat      (lat) float32 90.0 87.5 85.0 82.5 80.0 ... -82.5 -85.0 -87.5 -90.0\n",
       "  * lon      (lon) float32 0.0 2.5 5.0 7.5 10.0 ... 350.0 352.5 355.0 357.5\n",
       "  * time     (time) datetime64[ns] 1979-01-01 1979-02-01 ... 2015-10-01\n",
       "Data variables:\n",
       "    air      (time, lat, lon) float32 ...\n",
       "Attributes:\n",
       "    description:    Data from NCEP initialized reanalysis (4x/day).  These ar...\n",
       "    platform:       Model\n",
       "    Conventions:    COARDS\n",
       "    NCO:            20121012\n",
       "    history:        Thu May  4 20:11:16 2000: ncrcat -d time,0,623 /Datasets/...\n",
       "    title:          monthly mean air.sig995 from the NCEP Reanalysis\n",
       "    dataset_title:  NCEP-NCAR Reanalysis 1\n",
       "    References:     http://www.psl.noaa.gov/data/gridded/data.ncep.reanalysis...>"
      ]
     },
     "execution_count": 61,
     "metadata": {},
     "output_type": "execute_result"
    }
   ],
   "source": [
    "precip = precip.sel(time=slice('1979-01-01', '2015-10-01'))\n",
    "air = air.sel(time=slice('1979-01-01', '2015-10-01'))\n",
    "\n",
    "air.values"
   ]
  }
 ],
 "metadata": {
  "interpreter": {
   "hash": "037d7104171086e34436b4ce4e30320624f64b4715c51725cf06525d5bfa3bef"
  },
  "kernelspec": {
   "display_name": "Python 3.9.7 ('env': venv)",
   "language": "python",
   "name": "python3"
  },
  "language_info": {
   "codemirror_mode": {
    "name": "ipython",
    "version": 3
   },
   "file_extension": ".py",
   "mimetype": "text/x-python",
   "name": "python",
   "nbconvert_exporter": "python",
   "pygments_lexer": "ipython3",
   "version": "3.9.7"
  },
  "orig_nbformat": 4
 },
 "nbformat": 4,
 "nbformat_minor": 2
}
